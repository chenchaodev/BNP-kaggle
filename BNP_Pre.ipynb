{
 "cells": [
  {
   "cell_type": "code",
   "execution_count": 1,
   "metadata": {
    "collapsed": false
   },
   "outputs": [
    {
     "data": {
      "text/plain": [
       "['etc.pkl',\n",
       " 'etc_sfm.pkl',\n",
       " 'etc_sfmr_nan_as_future.csv',\n",
       " 'id_test.pkl',\n",
       " 'input',\n",
       " 'lr_dispression_all_nan_as_future.csv',\n",
       " 'lr_dispression_cv.csv',\n",
       " 'lr_dispression_sfm.csv',\n",
       " 'lr_dispression_sfm_0.25.csv',\n",
       " 'RandomForestClassifier.pkl',\n",
       " 'RandomForestClassifier_nan_as_future.csv',\n",
       " 'RandomForestClassifier_nan_as_future_sfm.csv',\n",
       " 'RandomForestClassifier_sfm.pkl',\n",
       " 'target.pkl',\n",
       " 'test_pred.csv',\n",
       " 'train_pred.csv']"
      ]
     },
     "execution_count": 1,
     "metadata": {},
     "output_type": "execute_result"
    }
   ],
   "source": [
    "import os\n",
    "if (os.path.isdir('D:\\\\Documents\\\\DMProject\\\\BNP\\\\')):\n",
    "    os.chdir('D:\\\\Documents\\\\DMProject\\\\BNP\\\\')\n",
    "if (os.path.isdir('C:\\\\Users\\\\Chao\\\\Documents\\\\DMProject\\\\BNP\\\\')):\n",
    "    os.chdir('C:\\\\Users\\\\Chao\\\\Documents\\\\DMProject\\\\BNP\\\\')\n",
    "os.getcwd()\n",
    "os.listdir()"
   ]
  },
  {
   "cell_type": "code",
   "execution_count": 2,
   "metadata": {
    "collapsed": true
   },
   "outputs": [],
   "source": [
    "import numpy as np\n",
    "import pandas as pd"
   ]
  },
  {
   "cell_type": "code",
   "execution_count": 3,
   "metadata": {
    "collapsed": false
   },
   "outputs": [
    {
     "data": {
      "text/plain": [
       "(114321, 114393)"
      ]
     },
     "execution_count": 3,
     "metadata": {},
     "output_type": "execute_result"
    }
   ],
   "source": [
    "train = pd.read_csv('input\\\\train.csv')\n",
    "test = pd.read_csv('input\\\\test.csv')\n",
    "target = train['target']\n",
    "id_test = test['ID'].values\n",
    "\n",
    "len(train), len(test)"
   ]
  },
  {
   "cell_type": "code",
   "execution_count": 4,
   "metadata": {
    "collapsed": true
   },
   "outputs": [],
   "source": [
    "train = train.drop(['ID', 'target'], axis=1)\n",
    "test = test.drop(['ID'], axis=1)\n",
    "column_names = train.columns"
   ]
  },
  {
   "cell_type": "code",
   "execution_count": 5,
   "metadata": {
    "collapsed": false
   },
   "outputs": [
    {
     "data": {
      "text/plain": [
       "(228714, 114321, 131)"
      ]
     },
     "execution_count": 5,
     "metadata": {},
     "output_type": "execute_result"
    }
   ],
   "source": [
    "all_data = train.append(test)\n",
    "len(all_data), len(train), len(all_data.columns)"
   ]
  },
  {
   "cell_type": "code",
   "execution_count": 6,
   "metadata": {
    "collapsed": false
   },
   "outputs": [
    {
     "name": "stdout",
     "output_type": "stream",
     "text": [
      "v1 is digit\n",
      "v2 is digit\n",
      "v4 is digit\n",
      "v5 is digit\n",
      "v6 is digit\n",
      "v7 is digit\n",
      "v8 is digit\n",
      "v9 is digit\n",
      "v10 is digit\n",
      "v11 is digit\n",
      "v12 is digit\n",
      "v13 is digit\n",
      "v14 is digit\n",
      "v15 is digit\n",
      "v16 is digit\n",
      "v17 is digit\n",
      "v18 is digit\n",
      "v19 is digit\n",
      "v20 is digit\n",
      "v21 is digit\n",
      "v22 group to big\n",
      "23419\n",
      "v23 is digit\n",
      "v25 is digit\n",
      "v26 is digit\n",
      "v27 is digit\n",
      "v28 is digit\n",
      "v29 is digit\n",
      "v32 is digit\n",
      "v33 is digit\n",
      "v34 is digit\n",
      "v35 is digit\n",
      "v36 is digit\n",
      "v37 is digit\n",
      "v38 is digit\n",
      "v39 is digit\n",
      "v40 is digit\n",
      "v41 is digit\n",
      "v42 is digit\n",
      "v43 is digit\n",
      "v44 is digit\n",
      "v45 is digit\n",
      "v46 is digit\n",
      "v48 is digit\n",
      "v49 is digit\n",
      "v50 is digit\n",
      "v51 is digit\n",
      "v53 is digit\n",
      "v54 is digit\n",
      "v55 is digit\n",
      "v57 is digit\n",
      "v58 is digit\n",
      "v59 is digit\n",
      "v60 is digit\n",
      "v61 is digit\n",
      "v62 is digit\n",
      "v63 is digit\n",
      "v64 is digit\n",
      "v65 is digit\n",
      "v67 is digit\n",
      "v68 is digit\n",
      "v69 is digit\n",
      "v70 is digit\n",
      "v72 is digit\n",
      "v73 is digit\n",
      "v76 is digit\n",
      "v77 is digit\n",
      "v78 is digit\n",
      "v80 is digit\n",
      "v81 is digit\n",
      "v82 is digit\n",
      "v83 is digit\n",
      "v84 is digit\n",
      "v85 is digit\n",
      "v86 is digit\n",
      "v87 is digit\n",
      "v88 is digit\n",
      "v89 is digit\n",
      "v90 is digit\n",
      "v92 is digit\n",
      "v93 is digit\n",
      "v94 is digit\n",
      "v95 is digit\n",
      "v96 is digit\n",
      "v97 is digit\n",
      "v98 is digit\n",
      "v99 is digit\n",
      "v100 is digit\n",
      "v101 is digit\n",
      "v102 is digit\n",
      "v103 is digit\n",
      "v104 is digit\n",
      "v105 is digit\n",
      "v106 is digit\n",
      "v108 is digit\n",
      "v109 is digit\n",
      "v111 is digit\n",
      "v114 is digit\n",
      "v115 is digit\n",
      "v116 is digit\n",
      "v117 is digit\n",
      "v118 is digit\n",
      "v119 is digit\n",
      "v120 is digit\n",
      "v121 is digit\n",
      "v122 is digit\n",
      "v123 is digit\n",
      "v124 is digit\n",
      "v126 is digit\n",
      "v127 is digit\n",
      "v128 is digit\n",
      "v129 is digit\n",
      "v130 is digit\n",
      "v131 is digit\n"
     ]
    }
   ],
   "source": [
    "str_col_names = []\n",
    "for col_name in column_names:\n",
    "    if (all_data[col_name].dtype != 'O'):\n",
    "        print(col_name + \" is digit\")\n",
    "    else:\n",
    "        str_col_names.append(col_name)\n",
    "        g = all_data.groupby(col_name)\n",
    "        if len(g.size()) > 200:\n",
    "            print(col_name + \" group to big\")\n",
    "            print(len(g.size()))\n",
    "        else:\n",
    "            for name, group in g:\n",
    "                new_col_name = col_name + name\n",
    "                all_data[new_col_name] = 0\n",
    "                all_data.loc[all_data[col_name] == name, new_col_name] = 1\n",
    "                \n",
    "    new_col_name_nan = col_name + 'isnan'\n",
    "    all_data[new_col_name_nan] = 0\n",
    "    all_data.loc[pd.isnull(all_data[col_name]).values, new_col_name_nan] = 1\n",
    "    all_data.loc[pd.isnull(all_data[col_name]).values, col_name] = 0\n",
    "    \n",
    "#     df_train.drop([col_name], axis=1)\n",
    "#     df_test.drop([col_name], axis=1)"
   ]
  },
  {
   "cell_type": "code",
   "execution_count": 7,
   "metadata": {
    "collapsed": false
   },
   "outputs": [
    {
     "data": {
      "text/plain": [
       "(114321, 114393)"
      ]
     },
     "execution_count": 7,
     "metadata": {},
     "output_type": "execute_result"
    }
   ],
   "source": [
    "train_len, test_len = len(train), len(test)\n",
    "train_len, test_len"
   ]
  },
  {
   "cell_type": "code",
   "execution_count": 8,
   "metadata": {
    "collapsed": false
   },
   "outputs": [
    {
     "data": {
      "text/plain": [
       "['v3',\n",
       " 'v22',\n",
       " 'v24',\n",
       " 'v30',\n",
       " 'v31',\n",
       " 'v47',\n",
       " 'v52',\n",
       " 'v56',\n",
       " 'v66',\n",
       " 'v71',\n",
       " 'v74',\n",
       " 'v75',\n",
       " 'v79',\n",
       " 'v91',\n",
       " 'v107',\n",
       " 'v110',\n",
       " 'v112',\n",
       " 'v113',\n",
       " 'v125']"
      ]
     },
     "execution_count": 8,
     "metadata": {},
     "output_type": "execute_result"
    }
   ],
   "source": [
    "str_col_names"
   ]
  },
  {
   "cell_type": "code",
   "execution_count": 9,
   "metadata": {
    "collapsed": true
   },
   "outputs": [],
   "source": [
    "str_to_delete = ['v3',\n",
    " 'v24',\n",
    " 'v30',\n",
    " 'v31',\n",
    " 'v47',\n",
    " 'v52',\n",
    " 'v56',\n",
    " 'v66',\n",
    " 'v71',\n",
    " 'v74',\n",
    " 'v75',\n",
    " 'v79',\n",
    " 'v91',\n",
    " 'v107',\n",
    " 'v110',\n",
    " 'v112',\n",
    " 'v113',\n",
    " 'v125']"
   ]
  },
  {
   "cell_type": "code",
   "execution_count": 10,
   "metadata": {
    "collapsed": false
   },
   "outputs": [],
   "source": [
    "all_data = all_data.drop(str_to_delete, axis=1)"
   ]
  },
  {
   "cell_type": "code",
   "execution_count": 11,
   "metadata": {
    "collapsed": false
   },
   "outputs": [
    {
     "data": {
      "text/plain": [
       "114321"
      ]
     },
     "execution_count": 11,
     "metadata": {},
     "output_type": "execute_result"
    }
   ],
   "source": [
    "train_pre = all_data[:train_len]\n",
    "len(train_pre)"
   ]
  },
  {
   "cell_type": "code",
   "execution_count": 12,
   "metadata": {
    "collapsed": false
   },
   "outputs": [
    {
     "data": {
      "text/plain": [
       "(114393, 114393)"
      ]
     },
     "execution_count": 12,
     "metadata": {},
     "output_type": "execute_result"
    }
   ],
   "source": [
    "test_pre = all_data[train_len:]\n",
    "len(test_pre), test_len"
   ]
  },
  {
   "cell_type": "code",
   "execution_count": 13,
   "metadata": {
    "collapsed": false
   },
   "outputs": [
    {
     "data": {
      "text/plain": [
       "((114321, 620), (114393, 620))"
      ]
     },
     "execution_count": 13,
     "metadata": {},
     "output_type": "execute_result"
    }
   ],
   "source": [
    "train_pre.shape, test_pre.shape"
   ]
  },
  {
   "cell_type": "code",
   "execution_count": 14,
   "metadata": {
    "collapsed": true
   },
   "outputs": [],
   "source": [
    "train_pre.to_csv('train_pred.csv', index=False)"
   ]
  },
  {
   "cell_type": "code",
   "execution_count": 15,
   "metadata": {
    "collapsed": true
   },
   "outputs": [],
   "source": [
    "test_pre.to_csv('test_pred.csv', index=False)"
   ]
  },
  {
   "cell_type": "code",
   "execution_count": 16,
   "metadata": {
    "collapsed": false
   },
   "outputs": [],
   "source": [
    "import pickle\n",
    "output = open('target.pkl', 'wb')\n",
    "\n",
    "# Pickle dictionary using protocol 0.\n",
    "pickle.dump(target, output)\n",
    "\n",
    "output.close()"
   ]
  },
  {
   "cell_type": "code",
   "execution_count": 17,
   "metadata": {
    "collapsed": true
   },
   "outputs": [],
   "source": [
    "output = open('id_test.pkl', 'wb')\n",
    "\n",
    "# Pickle dictionary using protocol 0.\n",
    "pickle.dump(id_test, output)\n",
    "\n",
    "output.close()"
   ]
  },
  {
   "cell_type": "code",
   "execution_count": 18,
   "metadata": {
    "collapsed": false
   },
   "outputs": [
    {
     "data": {
      "text/plain": [
       "(114393, 114393)"
      ]
     },
     "execution_count": 18,
     "metadata": {},
     "output_type": "execute_result"
    }
   ],
   "source": [
    "import pickle\n",
    "\n",
    "pkl_file = open('id_test.pkl', 'rb')\n",
    "\n",
    "id_test_2 =  pickle.load(pkl_file)\n",
    "\n",
    "pkl_file.close()\n",
    "len(id_test_2), len(id_test)"
   ]
  },
  {
   "cell_type": "code",
   "execution_count": null,
   "metadata": {
    "collapsed": true
   },
   "outputs": [],
   "source": []
  }
 ],
 "metadata": {
  "kernelspec": {
   "display_name": "Python 3",
   "language": "python",
   "name": "python3"
  },
  "language_info": {
   "codemirror_mode": {
    "name": "ipython",
    "version": 3
   },
   "file_extension": ".py",
   "mimetype": "text/x-python",
   "name": "python",
   "nbconvert_exporter": "python",
   "pygments_lexer": "ipython3",
   "version": "3.5.1"
  }
 },
 "nbformat": 4,
 "nbformat_minor": 0
}
