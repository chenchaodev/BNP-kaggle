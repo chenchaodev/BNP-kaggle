{
 "cells": [
  {
   "cell_type": "code",
   "execution_count": 4,
   "metadata": {
    "collapsed": false
   },
   "outputs": [
    {
     "data": {
      "text/plain": [
       "['etc.pkl',\n",
       " 'etc_sfm.pkl',\n",
       " 'etc_sfmr_nan_as_future.csv',\n",
       " 'id_test.pkl',\n",
       " 'input',\n",
       " 'lr_dispression_all_nan_as_future.csv',\n",
       " 'lr_dispression_cv.csv',\n",
       " 'lr_dispression_sfm.csv',\n",
       " 'lr_dispression_sfm_0.25.csv',\n",
       " 'RandomForestClassifier.pkl',\n",
       " 'RandomForestClassifier_nan_as_future.csv',\n",
       " 'RandomForestClassifier_nan_as_future_sfm.csv',\n",
       " 'RandomForestClassifier_sfm.pkl',\n",
       " 'target.pkl',\n",
       " 'test_pred.csv',\n",
       " 'train_pred.csv']"
      ]
     },
     "execution_count": 4,
     "metadata": {},
     "output_type": "execute_result"
    }
   ],
   "source": [
    "import os\n",
    "if (os.path.isdir('D:\\\\Documents\\\\DMProject\\\\BNP\\\\')):\n",
    "    os.chdir('D:\\\\Documents\\\\DMProject\\\\BNP\\\\')\n",
    "if (os.path.isdir('C:\\\\Users\\\\Chao\\\\Documents\\\\DMProject\\\\BNP\\\\')):\n",
    "    os.chdir('C:\\\\Users\\\\Chao\\\\Documents\\\\DMProject\\\\BNP\\\\')\n",
    "os.getcwd()\n",
    "os.listdir()"
   ]
  },
  {
   "cell_type": "code",
   "execution_count": 5,
   "metadata": {
    "collapsed": true
   },
   "outputs": [],
   "source": [
    "str_col_names = ['v3',\n",
    " 'v24',\n",
    " 'v30',\n",
    " 'v31',\n",
    " 'v47',\n",
    " 'v52',\n",
    " 'v56',\n",
    " 'v66',\n",
    " 'v71',\n",
    " 'v74',\n",
    " 'v75',\n",
    " 'v79',\n",
    " 'v91',\n",
    " 'v107',\n",
    " 'v110',\n",
    " 'v112',\n",
    " 'v113',\n",
    " 'v125']\n",
    "\n",
    "str_col_to_big = [ 'v22',]"
   ]
  },
  {
   "cell_type": "code",
   "execution_count": 6,
   "metadata": {
    "collapsed": true
   },
   "outputs": [],
   "source": [
    "import numpy as np\n",
    "import pandas as pd"
   ]
  },
  {
   "cell_type": "code",
   "execution_count": 4,
   "metadata": {
    "collapsed": false
   },
   "outputs": [],
   "source": [
    "train = pd.read_csv('train_pred.csv')\n",
    "test = pd.read_csv('test_pred.csv')"
   ]
  },
  {
   "cell_type": "code",
   "execution_count": 5,
   "metadata": {
    "collapsed": false
   },
   "outputs": [],
   "source": [
    "import pickle\n",
    "pkl_file = open('id_test.pkl', 'rb')\n",
    "\n",
    "id_test =  pickle.load(pkl_file)\n",
    "\n",
    "pkl_file.close()\n",
    "\n",
    "\n",
    "pkl_file = open('target.pkl', 'rb')\n",
    "\n",
    "target =  pickle.load(pkl_file)\n",
    "\n",
    "pkl_file.close()"
   ]
  },
  {
   "cell_type": "code",
   "execution_count": 6,
   "metadata": {
    "collapsed": false
   },
   "outputs": [
    {
     "data": {
      "text/plain": [
       "(114321, 114393, 114321, 114393)"
      ]
     },
     "execution_count": 6,
     "metadata": {},
     "output_type": "execute_result"
    }
   ],
   "source": [
    "len(train), len(test), len(target), len(id_test)"
   ]
  },
  {
   "cell_type": "code",
   "execution_count": 14,
   "metadata": {
    "collapsed": false
   },
   "outputs": [],
   "source": [
    "# train_tmp = train.drop(str_col_names, axis=1)\n",
    "# test_tmp = test.drop(str_col_names, axis=1)\n",
    "train_pred = train.drop(str_col_to_big, axis=1)\n",
    "test_pred = test.drop(str_col_to_big, axis=1)"
   ]
  },
  {
   "cell_type": "code",
   "execution_count": 8,
   "metadata": {
    "collapsed": true
   },
   "outputs": [],
   "source": [
    "from sklearn.linear_model import LogisticRegression\n",
    "from sklearn import cross_validation\n",
    "from sklearn import linear_model\n",
    "from sklearn.feature_selection import SelectFromModel\n",
    "from sklearn.ensemble import RandomForestClassifier\n",
    "from sklearn import cross_validation\n",
    "from sklearn.ensemble import ExtraTreesClassifier"
   ]
  },
  {
   "cell_type": "code",
   "execution_count": 9,
   "metadata": {
    "collapsed": false
   },
   "outputs": [
    {
     "ename": "NameError",
     "evalue": "name 'clf' is not defined",
     "output_type": "error",
     "traceback": [
      "\u001b[1;31m---------------------------------------------------------------------------\u001b[0m",
      "\u001b[1;31mNameError\u001b[0m                                 Traceback (most recent call last)",
      "\u001b[1;32m<ipython-input-9-800ee9043d75>\u001b[0m in \u001b[0;36m<module>\u001b[1;34m()\u001b[0m\n\u001b[0;32m     13\u001b[0m \u001b[1;33m\u001b[0m\u001b[0m\n\u001b[0;32m     14\u001b[0m \u001b[0malg\u001b[0m\u001b[1;33m.\u001b[0m\u001b[0mfit\u001b[0m\u001b[1;33m(\u001b[0m\u001b[0mtrain_pred\u001b[0m\u001b[1;33m,\u001b[0m \u001b[0mtarget\u001b[0m\u001b[1;33m)\u001b[0m\u001b[1;33m\u001b[0m\u001b[0m\n\u001b[1;32m---> 15\u001b[1;33m \u001b[0mclf\u001b[0m\u001b[1;33m.\u001b[0m\u001b[0mfeature_importances_\u001b[0m\u001b[1;33m\u001b[0m\u001b[0m\n\u001b[0m",
      "\u001b[1;31mNameError\u001b[0m: name 'clf' is not defined"
     ]
    }
   ],
   "source": [
    "# alg    = LogisticRegression(random_state=1)\n",
    "# # alg = RandomForestClassifier(\n",
    "# #     random_state=1,\n",
    "# #     n_estimators=150,\n",
    "# #     min_samples_split=4,\n",
    "# #     min_samples_leaf=2\n",
    "# # )\n",
    "\n",
    "\n",
    "# alg.fit(train_pred, target)\n",
    "\n",
    "# y_pred = alg.predict_proba(test_pred)\n",
    "# y_pred.shape, len(id_test)\n",
    "# # #print y_pred\n",
    "\n",
    "# pd.DataFrame({\"ID\": id_test, \"PredictedProb\": y_pred[:,1]}).to_csv('LR_nan.csv',index=False)"
   ]
  },
  {
   "cell_type": "code",
   "execution_count": 17,
   "metadata": {
    "collapsed": false
   },
   "outputs": [
    {
     "name": "stdout",
     "output_type": "stream",
     "text": [
      "[  3.98021454e-03   3.58885662e-03   3.29836183e-03   3.47744733e-03\n",
      "   3.61446839e-03   3.34898638e-03   3.10747747e-03   3.48246983e-03\n",
      "   1.26980755e-02   3.00204836e-03   1.24517145e-02   3.16636861e-03\n",
      "   1.01115064e-02   3.37040025e-03   3.79382075e-03   3.15756601e-03\n",
      "   3.68550564e-03   3.10326051e-03   2.91500291e-03   9.18440284e-03\n",
      "   2.89078584e-03   3.06223690e-03   3.41080497e-03   3.44262025e-03\n",
      "   3.95641019e-03   3.00363592e-03   3.37516369e-03   3.32221661e-03\n",
      "   1.14640437e-02   3.33696621e-03   3.55350982e-03   3.91342572e-03\n",
      "   1.00859658e-03   3.41367362e-03   1.23565823e-02   2.99873742e-03\n",
      "   3.06542489e-03   3.38410426e-03   3.25036455e-03   3.57638781e-03\n",
      "   2.96864249e-03   2.95348779e-03   3.04387320e-03   4.37449686e-02\n",
      "   3.36261306e-03   3.04248382e-03   3.12405924e-03   3.51028878e-03\n",
      "   3.39250156e-03   4.11123503e-03   3.25970520e-03   3.40670840e-03\n",
      "   3.02359562e-03   7.70839545e-03   3.02566215e-03   3.15059991e-03\n",
      "   2.88480534e-03   3.01006544e-03   3.14624710e-03   3.56247074e-03\n",
      "   3.53602886e-03   7.43432987e-03   3.29786324e-03   3.10994908e-03\n",
      "   3.12273417e-03   3.47957799e-03   3.78536852e-03   3.69392772e-03\n",
      "   3.81789558e-03   3.39199740e-03   3.57076569e-03   3.59797681e-03\n",
      "   3.40724250e-03   3.64955958e-03   3.84596900e-03   3.10819626e-03\n",
      "   3.31388236e-03   3.29083249e-03   3.02947409e-03   3.18195810e-03\n",
      "   3.25098559e-03   3.04059894e-03   3.39732595e-03   3.73405413e-03\n",
      "   3.72848125e-03   4.07410914e-03   3.33975696e-03   3.48120446e-03\n",
      "   3.34419724e-03   3.18335569e-03   3.02300655e-03   3.09610319e-03\n",
      "   3.48125233e-03   3.74872931e-03   3.47372557e-03   1.25554574e-02\n",
      "   3.49797091e-03   3.41498070e-03   3.90873232e-03   3.36582479e-03\n",
      "   4.11344649e-03   3.99479129e-03   3.39032936e-03   3.54300515e-03\n",
      "   3.35969779e-03   3.12667195e-03   3.23480362e-03   3.77417188e-03\n",
      "   3.39761685e-03   3.72175717e-03   3.30009301e-03   3.89885653e-03\n",
      "   7.71642717e-05   8.49313286e-05   4.16032198e-05   1.82595096e-05\n",
      "   3.86163933e-04   3.87709843e-04   8.06358195e-05   3.14194695e-04\n",
      "   7.51236888e-05   7.42822598e-05   2.99709268e-04   8.85935258e-05\n",
      "   5.55381256e-05   7.77061854e-05   4.45388889e-05   7.90219473e-05\n",
      "   3.81856324e-08   7.15371818e-05   9.82776777e-05   8.50101777e-05\n",
      "   7.16872446e-05   7.78244116e-05   7.43095173e-05   3.14556794e-04\n",
      "   2.98309233e-04   1.43422382e-04   1.92573108e-03   3.05854803e-03\n",
      "   6.03016166e-03   6.23661873e-03   6.57803775e-03   0.00000000e+00\n",
      "   3.10299820e-04   7.64830857e-05   7.90586620e-05   7.47008243e-05\n",
      "   7.61235608e-05   1.19270139e-03   1.31451597e-04   6.75334227e-03\n",
      "   2.65366660e-03   1.43925986e-03   1.33397868e-03   3.35860420e-03\n",
      "   7.41481695e-03   1.21173685e-02   7.32035605e-03   1.13724594e-03\n",
      "   4.09982175e-04   7.74541997e-05   7.56201202e-05   3.28372242e-05\n",
      "   7.65951930e-05   3.22895319e-04   7.63561098e-05   0.00000000e+00\n",
      "   7.67891954e-05   3.16001629e-05   7.21050870e-05   7.84729951e-05\n",
      "   7.40357112e-05   8.61277395e-05   7.75227909e-05   3.02038696e-04\n",
      "   1.89012486e-05   2.03794099e-05   5.73633791e-03   3.39259745e-04\n",
      "   1.15812203e-03   7.61882448e-04   9.10743998e-04   0.00000000e+00\n",
      "   2.42071597e-03   8.00892950e-04   0.00000000e+00   8.41061566e-05\n",
      "   7.70361624e-05   4.29060785e-05   1.38603769e-04   4.38129925e-03\n",
      "   4.44095138e-03   4.67461715e-03   4.59710659e-03   4.61641554e-03\n",
      "   4.72507192e-03   4.63059061e-03   4.16724645e-03   4.80787919e-03\n",
      "   5.02464241e-03   4.41879164e-03   4.46001459e-03   0.00000000e+00\n",
      "   7.80088522e-05   3.10775102e-04   7.92593315e-05   1.19134044e-04\n",
      "   2.13231284e-05   1.39648282e-07   1.43948432e-06   0.00000000e+00\n",
      "   2.28020114e-07   8.72161720e-04   6.91243389e-04   3.19368542e-05\n",
      "   1.27442286e-04   0.00000000e+00   3.35053277e-05   3.57569907e-04\n",
      "   0.00000000e+00   1.84836292e-04   9.35994243e-05   0.00000000e+00\n",
      "   0.00000000e+00   7.23918921e-05   1.71197038e-03   0.00000000e+00\n",
      "   1.35505780e-05   0.00000000e+00   1.71128576e-03   0.00000000e+00\n",
      "   2.37418021e-05   2.58185096e-04   0.00000000e+00   2.18657350e-04\n",
      "   0.00000000e+00   0.00000000e+00   9.13919878e-06   0.00000000e+00\n",
      "   1.31045473e-05   3.25407272e-05   1.29524130e-04   2.18375926e-05\n",
      "   2.94332169e-03   2.04716017e-03   9.74981913e-04   4.27378613e-04\n",
      "   1.03924782e-06   0.00000000e+00   0.00000000e+00   2.37479986e-04\n",
      "   1.33948556e-07   2.11301566e-05   2.55188326e-08   2.82728784e-05\n",
      "   8.79111055e-04   2.89884206e-03   6.78759873e-04   3.68605741e-05\n",
      "   1.96423160e-03   2.53738193e-05   1.81228865e-05   2.30782629e-06\n",
      "   9.00289738e-05   0.00000000e+00   0.00000000e+00   1.12994209e-04\n",
      "   0.00000000e+00   5.03208336e-05   3.10372488e-04   0.00000000e+00\n",
      "   0.00000000e+00   2.00593830e-06   2.38443487e-04   1.50900718e-03\n",
      "   5.07258827e-05   4.81991644e-04   2.34848580e-06   0.00000000e+00\n",
      "   2.26260140e-04   1.84196070e-06   0.00000000e+00   1.75528553e-07\n",
      "   6.41994431e-06   0.00000000e+00   5.58186357e-03   0.00000000e+00\n",
      "   0.00000000e+00   2.77600738e-04   0.00000000e+00   0.00000000e+00\n",
      "   2.82470846e-08   5.31803177e-06   6.78389412e-04   1.71649954e-05\n",
      "   4.00083365e-04   2.35804234e-03   5.93780801e-04   6.03043742e-05\n",
      "   7.59833108e-05   7.35312490e-05   5.61059265e-05   2.16250091e-03\n",
      "   1.53344425e-03   8.04837809e-07   1.95112016e-03   8.17793048e-04\n",
      "   0.00000000e+00   1.49104945e-05   2.77405144e-06   1.82160929e-07\n",
      "   1.04206022e-03   8.64417252e-04   4.13479639e-05   4.30587379e-09\n",
      "   6.71691929e-07   6.35050868e-04   0.00000000e+00   0.00000000e+00\n",
      "   0.00000000e+00   0.00000000e+00   0.00000000e+00   0.00000000e+00\n",
      "   2.47039142e-03   0.00000000e+00   4.83365516e-03   0.00000000e+00\n",
      "   3.13550581e-04   0.00000000e+00   0.00000000e+00   1.02264136e-03\n",
      "   4.37720978e-04   3.12726865e-08   0.00000000e+00   2.08967567e-04\n",
      "   6.74064711e-05   2.41609139e-03   7.59449478e-05   7.69191171e-05\n",
      "   8.25431381e-05   7.88282292e-05   8.31759074e-05   0.00000000e+00\n",
      "   3.11772316e-04   8.50993225e-05   7.75977740e-05   7.89651975e-03\n",
      "   7.79646603e-03   1.64171579e-02   0.00000000e+00   8.02229936e-05\n",
      "   7.36443476e-05   1.00473540e-04   3.03086210e-04   0.00000000e+00\n",
      "   5.33248382e-03   3.00769634e-03   0.00000000e+00   0.00000000e+00\n",
      "   4.95517723e-03   2.79939448e-07   0.00000000e+00   3.71168090e-06\n",
      "   0.00000000e+00   0.00000000e+00   0.00000000e+00   0.00000000e+00\n",
      "   0.00000000e+00   7.15056876e-05   2.46790263e-05   5.71814877e-04\n",
      "   5.31386227e-04   0.00000000e+00   2.85096708e-06   4.95777054e-03\n",
      "   1.76342951e-05   4.96421700e-03   0.00000000e+00   7.94438641e-05\n",
      "   7.75026683e-05   9.44046505e-05   1.28724568e-04   9.27188637e-03\n",
      "   2.93537238e-03   1.27942579e-03   3.29505418e-03   2.28571795e-04\n",
      "   3.67205749e-06   5.77666056e-04   1.04989733e-03   2.53028039e-04\n",
      "   7.67949392e-04   0.00000000e+00   9.49527094e-04   2.20673152e-05\n",
      "   5.64100865e-04   3.76704698e-04   7.01655241e-04   1.86275177e-05\n",
      "   0.00000000e+00   7.77867114e-05   3.21241117e-04   3.19483701e-04\n",
      "   7.25534849e-05   7.55165108e-05   1.41974924e-04   7.58627722e-05\n",
      "   3.21408921e-04   7.71956644e-05   3.03233754e-04   7.05733657e-05\n",
      "   6.28151248e-03   5.77614251e-03   5.73122403e-03   8.55993799e-05\n",
      "   1.27928681e-03   4.13683392e-03   6.02277240e-03   0.00000000e+00\n",
      "   7.79535287e-05   8.35118415e-05   7.59844662e-05   7.58223478e-05\n",
      "   7.65259654e-05   7.81648779e-05   3.30156729e-04   7.44424758e-05\n",
      "   7.70214522e-05   8.09007449e-05   4.58616264e-04   7.74472614e-05\n",
      "   7.91105481e-05   3.21569212e-04   8.17566151e-05   4.12421132e-03\n",
      "   5.79017490e-03   5.96366441e-03   5.73663223e-03   6.24792401e-03\n",
      "   1.24903688e-03   8.98273825e-05   7.44844616e-08   3.10476606e-04\n",
      "   3.08981814e-04   6.38312694e-03   5.58872171e-03   4.16598925e-04\n",
      "   0.00000000e+00   7.51029045e-05   3.90561727e-03   1.64636654e-03\n",
      "   1.23059086e-03   3.26328061e-03   2.47710619e-03   5.87630171e-03\n",
      "   1.02254789e-03   2.79419781e-03   3.91171817e-03   2.19618093e-03\n",
      "   2.07313236e-03   2.46802210e-03   7.89064744e-04   3.62816516e-03\n",
      "   2.21542138e-03   2.40494117e-03   1.42308556e-03   2.22535686e-03\n",
      "   4.70815468e-04   2.10307197e-03   2.54399031e-03   1.10236654e-03\n",
      "   2.64282886e-04   3.28784305e-04   0.00000000e+00   7.33907298e-04\n",
      "   2.63825819e-03   2.16738684e-04   6.18179151e-04   1.83458997e-03\n",
      "   1.24103185e-03   5.13951025e-04   3.17724931e-04   6.79407925e-04\n",
      "   0.00000000e+00   8.99670012e-04   5.14399042e-04   1.75600415e-04\n",
      "   2.46218170e-04   1.47642517e-04   4.46917240e-03   8.89289923e-06\n",
      "   1.56443337e-03   2.35481645e-04   0.00000000e+00   3.78651977e-04\n",
      "   2.17591107e-03   3.04222546e-04   5.54644703e-05   1.41778138e-03\n",
      "   4.61564093e-04   8.11074633e-05   6.31511327e-04   5.96637041e-04\n",
      "   4.98105241e-04   1.20483440e-03   8.30373455e-04   1.04235981e-03\n",
      "   8.54353506e-04   2.77067274e-04   5.67275634e-03   8.34876928e-06\n",
      "   9.32704535e-05   7.61942406e-05   3.02033274e-04   7.73319966e-05\n",
      "   1.40354587e-04   7.51486686e-05   7.52080409e-05   7.81506275e-05\n",
      "   1.40570178e-04   3.08915554e-04   1.09914142e-03   4.00836192e-04\n",
      "   9.38392188e-05   1.36990208e-03   3.25122330e-04   4.74487981e-04\n",
      "   9.20535863e-04   6.29957482e-04   2.33976706e-04   6.65797869e-04\n",
      "   2.60769005e-05   2.58190761e-03   7.54307067e-04   3.86367069e-04\n",
      "   1.12737870e-03   4.11996185e-04   2.37241742e-03   3.06362457e-04\n",
      "   1.53137159e-03   3.42945344e-04   7.83920880e-04   7.73601027e-04\n",
      "   4.14319942e-04   6.11212466e-04   2.64894078e-06   7.11218369e-04\n",
      "   1.45851579e-03   1.74112101e-03   2.44944303e-04   2.49146389e-05\n",
      "   3.21360527e-04   1.55534781e-03   5.58009899e-04   3.91893808e-04\n",
      "   1.81438599e-04   6.73402506e-04   4.93483118e-04   2.45544807e-03\n",
      "   1.05422989e-03   7.90250636e-04   2.88820537e-03   7.51798208e-04\n",
      "   5.97608774e-04   3.65138737e-04   4.30479803e-04   5.40105215e-04\n",
      "   1.82366212e-04   2.73651701e-04   8.86685525e-04   6.46411439e-04\n",
      "   1.66641205e-03   8.94718748e-04   2.27593200e-03   2.55662484e-09\n",
      "   3.39005666e-04   9.78591423e-04   4.79127653e-04   6.88150888e-04\n",
      "   1.43237386e-03   8.31009783e-04   8.09867452e-04   2.16332903e-03\n",
      "   5.43029295e-04   2.70475988e-04   1.11197741e-03   3.46085565e-04\n",
      "   3.88384242e-04   8.49402178e-04   1.48909155e-03   1.69909677e-04\n",
      "   1.72991046e-03   1.80486624e-03   2.10528322e-04   7.50172328e-04\n",
      "   1.84106610e-03   1.86945189e-03   5.18650277e-04   7.93669365e-04\n",
      "   1.46214358e-04   1.07599598e-03   7.97841280e-04   8.81751761e-04\n",
      "   6.86401815e-04   5.89234214e-04   7.13713209e-04   2.00823246e-03\n",
      "   6.43230234e-04   5.58833035e-04   6.78703292e-04   1.03589595e-03\n",
      "   4.79723535e-05   8.01619737e-05   6.75155266e-05   3.14806628e-04\n",
      "   0.00000000e+00   7.44341705e-05   9.57239747e-05]\n"
     ]
    }
   ],
   "source": [
    "clf = ExtraTreesClassifier(n_estimators=850,max_features= 300,criterion= 'entropy',min_samples_split= 4,\n",
    "                            max_depth= 40, min_samples_leaf= 2, n_jobs = -1)  \n",
    "# # clf = ExtraTreesClassifier()\n",
    "clf = clf.fit(train_pred, target)\n",
    "# print(clf.feature_importances_)  \n",
    "\n",
    "\n"
   ]
  },
  {
   "cell_type": "code",
   "execution_count": 19,
   "metadata": {
    "collapsed": true
   },
   "outputs": [],
   "source": [
    "y_pred = clf.predict_proba(test_pred)\n",
    "y_pred.shape, len(id_test)\n",
    "# #print y_pred\n",
    "\n",
    "pd.DataFrame({\"ID\": id_test, \"PredictedProb\": y_pred[:,1]}).to_csv('extc_300_nan.csv',index=False)"
   ]
  },
  {
   "cell_type": "code",
   "execution_count": 11,
   "metadata": {
    "collapsed": false
   },
   "outputs": [
    {
     "data": {
      "text/plain": [
       "((114321, 213), (114393, 213))"
      ]
     },
     "execution_count": 11,
     "metadata": {},
     "output_type": "execute_result"
    }
   ],
   "source": [
    "# model = SelectFromModel(clf, prefit=True)\n",
    "# train_new = model.transform(train_pred)\n",
    "# test_new = model.transform(test_pred)\n",
    "# train_new.shape, test_new.shape"
   ]
  },
  {
   "cell_type": "code",
   "execution_count": 12,
   "metadata": {
    "collapsed": true
   },
   "outputs": [],
   "source": [
    "# clf = clf.fit(train_new, target)\n"
   ]
  },
  {
   "cell_type": "code",
   "execution_count": 14,
   "metadata": {
    "collapsed": false
   },
   "outputs": [],
   "source": [
    "# import pickle\n",
    "# output = open('etc.pkl', 'wb')\n",
    "\n",
    "# # Pickle dictionary using protocol 0.\n",
    "# pickle.dump(clf, output)\n",
    "\n",
    "# output.close()\n",
    "\n",
    "# y_pred = clf.predict_proba(test_new)\n",
    "# #print y_pred\n",
    "\n",
    "# pd.DataFrame({\"ID\": id_test, \"PredictedProb\": y_pred[:,1]}).to_csv('etc_80_nan_as_future.csv',index=False)"
   ]
  },
  {
   "cell_type": "code",
   "execution_count": 26,
   "metadata": {
    "collapsed": false
   },
   "outputs": [
    {
     "ename": "ValueError",
     "evalue": "Input X must be non-negative.",
     "output_type": "error",
     "traceback": [
      "\u001b[1;31m---------------------------------------------------------------------------\u001b[0m",
      "\u001b[1;31mValueError\u001b[0m                                Traceback (most recent call last)",
      "\u001b[1;32m<ipython-input-26-fad2bbb7c724>\u001b[0m in \u001b[0;36m<module>\u001b[1;34m()\u001b[0m\n\u001b[0;32m      3\u001b[0m \u001b[1;33m\u001b[0m\u001b[0m\n\u001b[0;32m      4\u001b[0m \u001b[0mskb\u001b[0m \u001b[1;33m=\u001b[0m \u001b[0mSelectKBest\u001b[0m\u001b[1;33m(\u001b[0m\u001b[0mchi2\u001b[0m\u001b[1;33m,\u001b[0m \u001b[0mk\u001b[0m\u001b[1;33m=\u001b[0m\u001b[1;36m400\u001b[0m\u001b[1;33m)\u001b[0m\u001b[1;33m\u001b[0m\u001b[0m\n\u001b[1;32m----> 5\u001b[1;33m \u001b[0mskb\u001b[0m\u001b[1;33m.\u001b[0m\u001b[0mfit\u001b[0m\u001b[1;33m(\u001b[0m\u001b[0mtrain_pred\u001b[0m\u001b[1;33m,\u001b[0m \u001b[0mtarget\u001b[0m\u001b[1;33m)\u001b[0m\u001b[1;33m\u001b[0m\u001b[0m\n\u001b[0m",
      "\u001b[1;32mC:\\Users\\Chao\\Anaconda3\\lib\\site-packages\\sklearn\\feature_selection\\univariate_selection.py\u001b[0m in \u001b[0;36mfit\u001b[1;34m(self, X, y)\u001b[0m\n\u001b[0;32m    329\u001b[0m         \u001b[0mself\u001b[0m\u001b[1;33m.\u001b[0m\u001b[0m_check_params\u001b[0m\u001b[1;33m(\u001b[0m\u001b[0mX\u001b[0m\u001b[1;33m,\u001b[0m \u001b[0my\u001b[0m\u001b[1;33m)\u001b[0m\u001b[1;33m\u001b[0m\u001b[0m\n\u001b[0;32m    330\u001b[0m \u001b[1;33m\u001b[0m\u001b[0m\n\u001b[1;32m--> 331\u001b[1;33m         \u001b[0mself\u001b[0m\u001b[1;33m.\u001b[0m\u001b[0mscores_\u001b[0m\u001b[1;33m,\u001b[0m \u001b[0mself\u001b[0m\u001b[1;33m.\u001b[0m\u001b[0mpvalues_\u001b[0m \u001b[1;33m=\u001b[0m \u001b[0mself\u001b[0m\u001b[1;33m.\u001b[0m\u001b[0mscore_func\u001b[0m\u001b[1;33m(\u001b[0m\u001b[0mX\u001b[0m\u001b[1;33m,\u001b[0m \u001b[0my\u001b[0m\u001b[1;33m)\u001b[0m\u001b[1;33m\u001b[0m\u001b[0m\n\u001b[0m\u001b[0;32m    332\u001b[0m         \u001b[0mself\u001b[0m\u001b[1;33m.\u001b[0m\u001b[0mscores_\u001b[0m \u001b[1;33m=\u001b[0m \u001b[0mnp\u001b[0m\u001b[1;33m.\u001b[0m\u001b[0masarray\u001b[0m\u001b[1;33m(\u001b[0m\u001b[0mself\u001b[0m\u001b[1;33m.\u001b[0m\u001b[0mscores_\u001b[0m\u001b[1;33m)\u001b[0m\u001b[1;33m\u001b[0m\u001b[0m\n\u001b[0;32m    333\u001b[0m         \u001b[0mself\u001b[0m\u001b[1;33m.\u001b[0m\u001b[0mpvalues_\u001b[0m \u001b[1;33m=\u001b[0m \u001b[0mnp\u001b[0m\u001b[1;33m.\u001b[0m\u001b[0masarray\u001b[0m\u001b[1;33m(\u001b[0m\u001b[0mself\u001b[0m\u001b[1;33m.\u001b[0m\u001b[0mpvalues_\u001b[0m\u001b[1;33m)\u001b[0m\u001b[1;33m\u001b[0m\u001b[0m\n",
      "\u001b[1;32mC:\\Users\\Chao\\Anaconda3\\lib\\site-packages\\sklearn\\feature_selection\\univariate_selection.py\u001b[0m in \u001b[0;36mchi2\u001b[1;34m(X, y)\u001b[0m\n\u001b[0;32m    212\u001b[0m     \u001b[0mX\u001b[0m \u001b[1;33m=\u001b[0m \u001b[0mcheck_array\u001b[0m\u001b[1;33m(\u001b[0m\u001b[0mX\u001b[0m\u001b[1;33m,\u001b[0m \u001b[0maccept_sparse\u001b[0m\u001b[1;33m=\u001b[0m\u001b[1;34m'csr'\u001b[0m\u001b[1;33m)\u001b[0m\u001b[1;33m\u001b[0m\u001b[0m\n\u001b[0;32m    213\u001b[0m     \u001b[1;32mif\u001b[0m \u001b[0mnp\u001b[0m\u001b[1;33m.\u001b[0m\u001b[0many\u001b[0m\u001b[1;33m(\u001b[0m\u001b[1;33m(\u001b[0m\u001b[0mX\u001b[0m\u001b[1;33m.\u001b[0m\u001b[0mdata\u001b[0m \u001b[1;32mif\u001b[0m \u001b[0missparse\u001b[0m\u001b[1;33m(\u001b[0m\u001b[0mX\u001b[0m\u001b[1;33m)\u001b[0m \u001b[1;32melse\u001b[0m \u001b[0mX\u001b[0m\u001b[1;33m)\u001b[0m \u001b[1;33m<\u001b[0m \u001b[1;36m0\u001b[0m\u001b[1;33m)\u001b[0m\u001b[1;33m:\u001b[0m\u001b[1;33m\u001b[0m\u001b[0m\n\u001b[1;32m--> 214\u001b[1;33m         \u001b[1;32mraise\u001b[0m \u001b[0mValueError\u001b[0m\u001b[1;33m(\u001b[0m\u001b[1;34m\"Input X must be non-negative.\"\u001b[0m\u001b[1;33m)\u001b[0m\u001b[1;33m\u001b[0m\u001b[0m\n\u001b[0m\u001b[0;32m    215\u001b[0m \u001b[1;33m\u001b[0m\u001b[0m\n\u001b[0;32m    216\u001b[0m     \u001b[0mY\u001b[0m \u001b[1;33m=\u001b[0m \u001b[0mLabelBinarizer\u001b[0m\u001b[1;33m(\u001b[0m\u001b[1;33m)\u001b[0m\u001b[1;33m.\u001b[0m\u001b[0mfit_transform\u001b[0m\u001b[1;33m(\u001b[0m\u001b[0my\u001b[0m\u001b[1;33m)\u001b[0m\u001b[1;33m\u001b[0m\u001b[0m\n",
      "\u001b[1;31mValueError\u001b[0m: Input X must be non-negative."
     ]
    }
   ],
   "source": [
    "# from sklearn.feature_selection import SelectKBest\n",
    "# from sklearn.feature_selection import chi2\n",
    "\n",
    "# skb = SelectKBest(chi2, k=400)\n",
    "# skb.fit(train_pred, target)"
   ]
  },
  {
   "cell_type": "code",
   "execution_count": 19,
   "metadata": {
    "collapsed": false,
    "scrolled": true
   },
   "outputs": [
    {
     "data": {
      "text/plain": [
       "SelectFromModel(estimator=LogisticRegression(C=1.0, class_weight=None, dual=False, fit_intercept=True,\n",
       "          intercept_scaling=1, max_iter=100, multi_class='ovr', n_jobs=1,\n",
       "          penalty='l2', random_state=1, solver='liblinear', tol=0.0001,\n",
       "          verbose=0, warm_start=False),\n",
       "        prefit=False, threshold=0.25)"
      ]
     },
     "execution_count": 19,
     "metadata": {},
     "output_type": "execute_result"
    }
   ],
   "source": [
    "# sfm = SelectFromModel(alg, threshold=0.25)\n",
    "# sfm.fit(train_pred, target)"
   ]
  },
  {
   "cell_type": "code",
   "execution_count": null,
   "metadata": {
    "collapsed": true
   },
   "outputs": [],
   "source": [
    "# train_skb = skb.transform(train_pred)\n",
    "# test_skb = skb.transform(test_pred)\n",
    "# train_skb.shape, train_skb.shape"
   ]
  },
  {
   "cell_type": "code",
   "execution_count": 20,
   "metadata": {
    "collapsed": false
   },
   "outputs": [],
   "source": [
    "# train_sfm = sfm.transform(train_pred)\n",
    "# test_sfm = sfm.transform(test_pred)\n",
    "# n_features = sfm.transform(train_pred).shape[1]\n",
    "#train_sfm.shape, test_sfm.shape"
   ]
  },
  {
   "cell_type": "code",
   "execution_count": 22,
   "metadata": {
    "collapsed": false
   },
   "outputs": [
    {
     "data": {
      "text/plain": [
       "LogisticRegression(C=1.0, class_weight=None, dual=False, fit_intercept=True,\n",
       "          intercept_scaling=1, max_iter=100, multi_class='ovr', n_jobs=1,\n",
       "          penalty='l2', random_state=1, solver='liblinear', tol=0.0001,\n",
       "          verbose=0, warm_start=False)"
      ]
     },
     "execution_count": 22,
     "metadata": {},
     "output_type": "execute_result"
    }
   ],
   "source": [
    "# alg.fit(train_sfm, target)"
   ]
  },
  {
   "cell_type": "code",
   "execution_count": 23,
   "metadata": {
    "collapsed": true
   },
   "outputs": [],
   "source": [
    "# import pickle\n",
    "# output = open('RandomForestClassifier_sfm.pkl', 'wb')\n",
    "\n",
    "# # Pickle dictionary using protocol 0.\n",
    "# pickle.dump(alg, output)\n",
    "\n",
    "# output.close()"
   ]
  },
  {
   "cell_type": "code",
   "execution_count": 24,
   "metadata": {
    "collapsed": false
   },
   "outputs": [],
   "source": [
    "# y_pred = alg.predict_proba(test_sfm)\n",
    "# #print y_pred\n",
    "\n",
    "# pd.DataFrame({\"ID\": id_test, \"PredictedProb\": y_pred[:,1]}).to_csv('RandomForestClassifier_nan_as_future_sfm.csv',index=False)"
   ]
  },
  {
   "cell_type": "code",
   "execution_count": null,
   "metadata": {
    "collapsed": true
   },
   "outputs": [],
   "source": []
  }
 ],
 "metadata": {
  "kernelspec": {
   "display_name": "Python 3",
   "language": "python",
   "name": "python3"
  },
  "language_info": {
   "codemirror_mode": {
    "name": "ipython",
    "version": 3
   },
   "file_extension": ".py",
   "mimetype": "text/x-python",
   "name": "python",
   "nbconvert_exporter": "python",
   "pygments_lexer": "ipython3",
   "version": "3.5.1"
  }
 },
 "nbformat": 4,
 "nbformat_minor": 0
}
