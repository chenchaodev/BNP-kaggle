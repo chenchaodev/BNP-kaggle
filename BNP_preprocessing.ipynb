{
 "cells": [
  {
   "cell_type": "code",
   "execution_count": 23,
   "metadata": {
    "collapsed": false
   },
   "outputs": [],
   "source": [
    "import numpy as np\n",
    "import pandas as pd"
   ]
  },
  {
   "cell_type": "code",
   "execution_count": 37,
   "metadata": {
    "collapsed": true
   },
   "outputs": [],
   "source": [
    "def dispersion_col(df_train, df_test, col_name):\n",
    "    if (df_train[col_name].dtype != 'O'):\n",
    "#         print(col_name + \"is number\")\n",
    "        return\n",
    "    g = df_train.groupby(col_name)\n",
    "    if len(g.size()) > 200:\n",
    "#         print(col_name + \"group to big\")\n",
    "        return\n",
    "    \n",
    "    for name, group in g:\n",
    "        new_col_name = col_name + name\n",
    "        df_train[new_col_name] = 0\n",
    "        df_test[new_col_name] = 0\n",
    "    \n",
    "    for name, group in g:\n",
    "        new_col_name = col_name + name\n",
    "        df_train.loc[df_train[col_name] == name, new_col_name] = 1\n",
    "        df_test.loc[df_test[col_name] == name, new_col_name] = 1\n",
    "        \n",
    "    \n",
    "#     df.drop([col_name], axis=1)"
   ]
  },
  {
   "cell_type": "code",
   "execution_count": 38,
   "metadata": {
    "collapsed": true
   },
   "outputs": [],
   "source": [
    "train = pd.read_csv('C:\\\\Users\\\\Chao\\\\Documents\\\\DMProject\\\\BNP\\\\input\\\\train.csv')\n",
    "test = pd.read_csv('C:\\\\Users\\\\Chao\\\\Documents\\\\DMProject\\\\BNP\\\\input\\\\test.csv')\n",
    "target = train['target']\n",
    "id_test = test['ID'].values"
   ]
  },
  {
   "cell_type": "code",
   "execution_count": 39,
   "metadata": {
    "collapsed": false
   },
   "outputs": [],
   "source": [
    "train = train.drop(['ID', 'target'], axis=1)\n",
    "test = test.drop(['ID'], axis=1)\n",
    "column_names = train.columns"
   ]
  },
  {
   "cell_type": "code",
   "execution_count": 40,
   "metadata": {
    "collapsed": false
   },
   "outputs": [],
   "source": [
    "# dispersion_col(train, 'v3')\n",
    "\n",
    "for col_name in column_names:\n",
    "    dispersion_col(train, test, col_name)"
   ]
  },
  {
   "cell_type": "code",
   "execution_count": 41,
   "metadata": {
    "collapsed": true
   },
   "outputs": [],
   "source": [
    "train = train.drop(['v3', 'v22', 'v24', 'v30', 'v31', \n",
    "                    'v47', 'v52', 'v56', 'v66', 'v71', \n",
    "                    'v74', 'v75', 'v79', 'v91', \n",
    "                    'v107', 'v110', 'v112', 'v113', 'v125'], axis=1)\n",
    "test = test.drop(['v3', 'v22', 'v24', 'v30', 'v31', \n",
    "                    'v47', 'v52', 'v56', 'v66', 'v71', \n",
    "                    'v74', 'v75', 'v79', 'v91', \n",
    "                    'v107', 'v110', 'v112', 'v113', 'v125'], axis=1)\n"
   ]
  },
  {
   "cell_type": "code",
   "execution_count": 42,
   "metadata": {
    "collapsed": false
   },
   "outputs": [],
   "source": [
    "future = train.columns.values"
   ]
  },
  {
   "cell_type": "code",
   "execution_count": 43,
   "metadata": {
    "collapsed": false
   },
   "outputs": [
    {
     "data": {
      "text/plain": [
       "Imputer(axis=0, copy=True, missing_values='NaN', strategy='mean', verbose=0)"
      ]
     },
     "execution_count": 43,
     "metadata": {},
     "output_type": "execute_result"
    }
   ],
   "source": [
    "from sklearn.preprocessing import Imputer\n",
    "imp = Imputer(missing_values='NaN', strategy='mean', axis=0)\n",
    "imp.fit(train)"
   ]
  },
  {
   "cell_type": "code",
   "execution_count": 44,
   "metadata": {
    "collapsed": false
   },
   "outputs": [],
   "source": [
    "train_imputed = imp.transform(train)\n",
    "test_imputed = imp.transform(test)"
   ]
  },
  {
   "cell_type": "code",
   "execution_count": 45,
   "metadata": {
    "collapsed": true
   },
   "outputs": [],
   "source": [
    "from sklearn.linear_model import LogisticRegression\n",
    "from sklearn import cross_validation\n",
    "from sklearn import linear_model"
   ]
  },
  {
   "cell_type": "code",
   "execution_count": 52,
   "metadata": {
    "collapsed": false
   },
   "outputs": [
    {
     "data": {
      "text/plain": [
       "LogisticRegression(C=1.0, class_weight=None, dual=False, fit_intercept=True,\n",
       "          intercept_scaling=1, max_iter=100, multi_class='ovr', n_jobs=1,\n",
       "          penalty='l2', random_state=1, solver='liblinear', tol=0.0001,\n",
       "          verbose=0, warm_start=False)"
      ]
     },
     "execution_count": 52,
     "metadata": {},
     "output_type": "execute_result"
    }
   ],
   "source": [
    "alg    = LogisticRegression(random_state=1)\n",
    "alg.fit(train_imputed, target)\n",
    "# scores = cross_validation.cross_val_score(\n",
    "#     alg,\n",
    "#     train_imputed[future],\n",
    "#     target,\n",
    "#     cv=3.\n",
    "# )\n",
    "\n",
    "# print(scores.mean())"
   ]
  },
  {
   "cell_type": "code",
   "execution_count": 47,
   "metadata": {
    "collapsed": false
   },
   "outputs": [
    {
     "data": {
      "text/plain": [
       "114393"
      ]
     },
     "execution_count": 47,
     "metadata": {},
     "output_type": "execute_result"
    }
   ],
   "source": [
    "y_pred = alg.predict_proba(test_imputed)\n",
    "len(y_pred)"
   ]
  },
  {
   "cell_type": "code",
   "execution_count": 48,
   "metadata": {
    "collapsed": true
   },
   "outputs": [],
   "source": [
    "y_value = alg.predict(test_imputed)"
   ]
  },
  {
   "cell_type": "code",
   "execution_count": 49,
   "metadata": {
    "collapsed": true
   },
   "outputs": [],
   "source": [
    "#print y_pred\n",
    "\n",
    "pd.DataFrame({\"ID\": id_test, \"PredictedProb\": y_pred[:,1]}).to_csv('lr_dispression.csv',index=False)"
   ]
  },
  {
   "cell_type": "code",
   "execution_count": null,
   "metadata": {
    "collapsed": true
   },
   "outputs": [],
   "source": []
  }
 ],
 "metadata": {
  "kernelspec": {
   "display_name": "Python 3",
   "language": "python",
   "name": "python3"
  },
  "language_info": {
   "codemirror_mode": {
    "name": "ipython",
    "version": 3
   },
   "file_extension": ".py",
   "mimetype": "text/x-python",
   "name": "python",
   "nbconvert_exporter": "python",
   "pygments_lexer": "ipython3",
   "version": "3.5.1"
  }
 },
 "nbformat": 4,
 "nbformat_minor": 0
}
